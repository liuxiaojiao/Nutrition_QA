{
 "cells": [
  {
   "cell_type": "code",
   "execution_count": 30,
   "metadata": {},
   "outputs": [],
   "source": [
    "full_list = [\n",
    "    \n",
    "{\"title\": \"Having both taken and taught my fair share of univ\", \"paragraphs\": [{\"context\": \"Having both taken and taught my fair share of university courses, if there\\u2019s one thing I know about students it\\u2019s this; they usually want to know, up front, if what they\\u2019re learning in school can be applied to the \\u201creal world.\\u201d You know, they\\u2019re sitting in \\u201ctrig\\u201d class wondering when the heck they\\u2019ll ever really need to know the cosine of a right triangle. And then comes astronomy and Kepler\\u2019s laws of planetary motion. Who was that Kepler guy anyway? And come time for physiology class, it\\u2019s those pesky Krebs cycle enzymes that keep them won- dering why, when they\\u2019re 40 and an accountant, they\\u2019ll need to remember the enzyme responsible for forming citrate.\", \"qas\": [{\"question\": \"what is the name of the class that students sit in wondering when the heck they\\ufffd\", \"id\": \"mynbiqpm\", \"answers\": [{\"answer_start\": 258, \"text\": \"trig\"}]}, {\"question\": \"what are the laws of planetary motion\", \"id\": \"zjplsgqe\", \"answers\": [{\"answer_start\": 374, \"text\": \"Kepler\\u2019s laws of planetary\"}]}, {\"question\": \"what does the enzyme responsible for forming\", \"id\": \"jeydtzir\", \"answers\": [{\"answer_start\": 655, \"text\": \"citrate\"}]}, {\"question\": \"what are two of the first things a student has to learn in trig class\", \"id\": \"wztejdxc\", \"answers\": [{\"answer_start\": 374, \"text\": \"cosine of a right triangle\"}]}, {\"question\": \"what is one of the most important courses that students take at university\", \"id\": \"vkprdlnk\", \"answers\": [{\"answer_start\": 374, \"text\": \"physiology\"}]}, {\"question\": \"what does a scientist need to remember when they graduate from university\", \"id\": \"tugrpoqi\", \"answers\": [{\"answer_start\": 620, \"text\": \"Krebs cycle enzymes\"}]}, {\"question\": \"what keeps a student won- dering when it comes to physiology\", \"id\": \"bzracxmw\", \"answers\": [{\"answer_start\": 502, \"text\": \"those pesky Krebs cycle enzymes\"}]}, {\"question\": \"in what class do students need to remember the enzyme responsible for forming citrate\", \"id\": \"zvuatpkh\", \"answers\": [{\"answer_start\": 473, \"text\": \"physiology\"}]}]}]}, \n",
    "{\"title\": \"I know this well. . . because, I too, was once the\", \"paragraphs\": [{\"context\": \"I know this well. . . because, I too, was once there. And now that I\\u2019m on the other side, now that I teach these types of classes, it\\u2019s time for me to be frank with my students. \\u201cAm I ever going to need to know this again?\\u201d Probably not. Indeed, my students will probably never again need to know cosines, unless they become engineers. They\\u2019ll probably never again concern themselves with the laws of planetary motion, unless they go to work for NASA. And they\\u2019ll probably never need to discuss the Krebs cycle\\u2014ever. Well, unless they sign up for this certification, that is.\", \"qas\": [{\"question\": \"what organization does my students work for\", \"id\": \"xkwcgshh\", \"answers\": [{\"answer_start\": 446, \"text\": \"NASA\"}]}, {\"question\": \"what do my students probably never need to know again\", \"id\": \"zezrocck\", \"answers\": [{\"answer_start\": 297, \"text\": \"cosines\"}]}, {\"question\": \"what kind of students will probably never need to know cosines\", \"id\": \"qpdjrjwd\", \"answers\": [{\"answer_start\": 325, \"text\": \"engineers\"}]}, {\"question\": \"what does the term krebs cycle refer to\", \"id\": \"rkrgztrs\", \"answers\": [{\"answer_start\": 499, \"text\": \"cosines\"}]}, {\"question\": \"what will my students probably never again concern themselves with unless they become engineers\", \"id\": \"joctzmks\", \"answers\": [{\"answer_start\": 389, \"text\": \"cosines\"}]}, {\"question\": \"what does the term krebs cycle refer to\", \"id\": \"hjfgfbtv\", \"answers\": [{\"answer_start\": 495, \"text\": \"cosines\"}]}, {\"question\": \"what will my students probably never need to know\", \"id\": \"ipccvyee\", \"answers\": [{\"answer_start\": 272, \"text\": \"cosines\"}]}, {\"question\": \"what will cosines never need to know again unless they become engineers\", \"id\": \"bcwrvmwq\", \"answers\": [{\"answer_start\": 393, \"text\": \"cosines\"}]}]}]},   \n",
    "]    "
   ]
  },
  {
   "cell_type": "code",
   "execution_count": 27,
   "metadata": {},
   "outputs": [
    {
     "data": {
      "text/plain": [
       "'mynbiqpm'"
      ]
     },
     "execution_count": 27,
     "metadata": {},
     "output_type": "execute_result"
    }
   ],
   "source": [
    "# import random\n",
    "# random.seed(0)\n",
    "# ''.join(random.choice(string.ascii_lowercase) for i in range(8))"
   ]
  },
  {
   "cell_type": "code",
   "execution_count": 53,
   "metadata": {},
   "outputs": [
    {
     "data": {
      "text/plain": [
       "'mynbiqpm'"
      ]
     },
     "execution_count": 53,
     "metadata": {},
     "output_type": "execute_result"
    }
   ],
   "source": [
    "random.seed(0)\n",
    "''.join(random.choice(string.ascii_lowercase) for i in range(8))"
   ]
  },
  {
   "cell_type": "code",
   "execution_count": 54,
   "metadata": {},
   "outputs": [
    {
     "data": {
      "text/plain": [
       "'zjplsgqe'"
      ]
     },
     "execution_count": 54,
     "metadata": {},
     "output_type": "execute_result"
    }
   ],
   "source": [
    "''.join(random.choice(string.ascii_lowercase) for i in range(8))"
   ]
  },
  {
   "cell_type": "code",
   "execution_count": 55,
   "metadata": {},
   "outputs": [
    {
     "data": {
      "text/plain": [
       "'jeydtzir'"
      ]
     },
     "execution_count": 55,
     "metadata": {},
     "output_type": "execute_result"
    }
   ],
   "source": [
    "''.join(random.choice(string.ascii_lowercase) for i in range(8))"
   ]
  },
  {
   "cell_type": "code",
   "execution_count": 31,
   "metadata": {},
   "outputs": [],
   "source": [
    "import string\n",
    "import re\n",
    "from collections import Counter, OrderedDict, defaultdict as ddict"
   ]
  },
  {
   "cell_type": "code",
   "execution_count": 32,
   "metadata": {},
   "outputs": [],
   "source": [
    "import pandas as pd\n",
    "pred_df = pd.read_csv('output/test_predicted_answer.csv')"
   ]
  },
  {
   "cell_type": "code",
   "execution_count": 33,
   "metadata": {},
   "outputs": [
    {
     "data": {
      "text/html": [
       "<div>\n",
       "<style scoped>\n",
       "    .dataframe tbody tr th:only-of-type {\n",
       "        vertical-align: middle;\n",
       "    }\n",
       "\n",
       "    .dataframe tbody tr th {\n",
       "        vertical-align: top;\n",
       "    }\n",
       "\n",
       "    .dataframe thead th {\n",
       "        text-align: right;\n",
       "    }\n",
       "</style>\n",
       "<table border=\"1\" class=\"dataframe\">\n",
       "  <thead>\n",
       "    <tr style=\"text-align: right;\">\n",
       "      <th></th>\n",
       "      <th>Id</th>\n",
       "      <th>Predicted</th>\n",
       "    </tr>\n",
       "  </thead>\n",
       "  <tbody>\n",
       "    <tr>\n",
       "      <th>0</th>\n",
       "      <td>aaakkquu</td>\n",
       "      <td>Protein and amino acid intake</td>\n",
       "    </tr>\n",
       "    <tr>\n",
       "      <th>1</th>\n",
       "      <td>aaamhvoo</td>\n",
       "      <td>keep it basic and use either the USDA approach...</td>\n",
       "    </tr>\n",
       "    <tr>\n",
       "      <th>2</th>\n",
       "      <td>aacjivkn</td>\n",
       "      <td>small intestine</td>\n",
       "    </tr>\n",
       "    <tr>\n",
       "      <th>3</th>\n",
       "      <td>aadugkqc</td>\n",
       "      <td>dietary fat is critical for optimal health and...</td>\n",
       "    </tr>\n",
       "    <tr>\n",
       "      <th>4</th>\n",
       "      <td>aagiuarj</td>\n",
       "      <td>10%</td>\n",
       "    </tr>\n",
       "  </tbody>\n",
       "</table>\n",
       "</div>"
      ],
      "text/plain": [
       "         Id                                          Predicted\n",
       "0  aaakkquu                      Protein and amino acid intake\n",
       "1  aaamhvoo  keep it basic and use either the USDA approach...\n",
       "2  aacjivkn                                    small intestine\n",
       "3  aadugkqc  dietary fat is critical for optimal health and...\n",
       "4  aagiuarj                                                10%"
      ]
     },
     "execution_count": 33,
     "metadata": {},
     "output_type": "execute_result"
    }
   ],
   "source": [
    "pred_df.head()"
   ]
  },
  {
   "cell_type": "code",
   "execution_count": 46,
   "metadata": {},
   "outputs": [],
   "source": [
    "pred_dict = dict(zip(pred_df['Id'], pred_df['Predicted']))"
   ]
  },
  {
   "cell_type": "code",
   "execution_count": 47,
   "metadata": {},
   "outputs": [
    {
     "data": {
      "text/plain": [
       "'trig'"
      ]
     },
     "execution_count": 47,
     "metadata": {},
     "output_type": "execute_result"
    }
   ],
   "source": [
    "pred_dict['mynbiqpm']"
   ]
  },
  {
   "cell_type": "code",
   "execution_count": 36,
   "metadata": {},
   "outputs": [
    {
     "data": {
      "text/plain": [
       "0.6666666666666666"
      ]
     },
     "execution_count": 36,
     "metadata": {},
     "output_type": "execute_result"
    }
   ],
   "source": [
    "def get_tokens(s):\n",
    "    if not s:\n",
    "        return []\n",
    "    return normalize_answer(s).split()\n",
    "\n",
    "def normalize_answer(s):\n",
    "    \"\"\"Convert to lowercase and remove punctuation, articles and extra whitespace.\"\"\"\n",
    "\n",
    "    def remove_articles(text):\n",
    "        regex = re.compile(r'\\b(a|an|the)\\b', re.UNICODE)\n",
    "        return re.sub(regex, ' ', text)\n",
    "\n",
    "    def white_space_fix(text):\n",
    "        return ' '.join(text.split())\n",
    "\n",
    "    def remove_punc(text):\n",
    "        exclude = set(string.punctuation)\n",
    "        return ''.join(ch for ch in text if ch not in exclude)\n",
    "\n",
    "    def lower(text):\n",
    "        return text.lower()\n",
    "\n",
    "    return white_space_fix(remove_articles(remove_punc(lower(s))))\n",
    "\n",
    "def compute_f1(a_gold, a_pred):\n",
    "    gold_toks = get_tokens(a_gold)\n",
    "    pred_toks = get_tokens(a_pred)\n",
    "    common = Counter(gold_toks) & Counter(pred_toks)\n",
    "    num_same = sum(common.values())\n",
    "    if len(gold_toks) == 0 or len(pred_toks) == 0:\n",
    "        # If either is no-answer, then F1 is 1 if they agree, 0 otherwise\n",
    "        return int(gold_toks == pred_toks)\n",
    "    if num_same == 0:\n",
    "        return 0\n",
    "    precision = 1.0 * num_same / len(pred_toks)\n",
    "    recall = 1.0 * num_same / len(gold_toks)\n",
    "    f1 = (2 * precision * recall) / (precision + recall)\n",
    "    return f1\n",
    "\n",
    "# def metric_max_over_ground_truths(metric_fn, prediction, ground_truths):\n",
    "#     if not ground_truths:\n",
    "#         return metric_fn(prediction, '')\n",
    "#     scores_for_ground_truths = []\n",
    "#     for ground_truth in ground_truths:\n",
    "#         score = metric_fn(prediction, ground_truth)\n",
    "#         scores_for_ground_truths.append(score)\n",
    "#     return max(scores_for_ground_truths)\n",
    "\n",
    "prediction = 'food we eat'\n",
    "ground_truths = 'we eat nothing'\n",
    "f1 = compute_f1(ground_truths, prediction)\n",
    "f1"
   ]
  },
  {
   "cell_type": "code",
   "execution_count": null,
   "metadata": {},
   "outputs": [],
   "source": []
  },
  {
   "cell_type": "code",
   "execution_count": 48,
   "metadata": {},
   "outputs": [],
   "source": [
    "for k in full_list:\n",
    "    for m in k['paragraphs'][0]['qas']:\n",
    "        m['f1-score'] = compute_f1(m['answers'][0]['text'], pred_dict[m['id']])"
   ]
  },
  {
   "cell_type": "code",
   "execution_count": 49,
   "metadata": {},
   "outputs": [
    {
     "data": {
      "text/plain": [
       "{'title': 'Having both taken and taught my fair share of univ',\n",
       " 'paragraphs': [{'context': 'Having both taken and taught my fair share of university courses, if there’s one thing I know about students it’s this; they usually want to know, up front, if what they’re learning in school can be applied to the “real world.” You know, they’re sitting in “trig” class wondering when the heck they’ll ever really need to know the cosine of a right triangle. And then comes astronomy and Kepler’s laws of planetary motion. Who was that Kepler guy anyway? And come time for physiology class, it’s those pesky Krebs cycle enzymes that keep them won- dering why, when they’re 40 and an accountant, they’ll need to remember the enzyme responsible for forming citrate.',\n",
       "   'qas': [{'question': 'what is the name of the class that students sit in wondering when the heck they�',\n",
       "     'id': 'mynbiqpm',\n",
       "     'answers': [{'answer_start': 258, 'text': 'trig'}],\n",
       "     'f1-score': 1.0},\n",
       "    {'question': 'what are the laws of planetary motion',\n",
       "     'id': 'zjplsgqe',\n",
       "     'answers': [{'answer_start': 374, 'text': 'Kepler’s laws of planetary'}],\n",
       "     'f1-score': 0.28571428571428575},\n",
       "    {'question': 'what does the enzyme responsible for forming',\n",
       "     'id': 'jeydtzir',\n",
       "     'answers': [{'answer_start': 655, 'text': 'citrate'}],\n",
       "     'f1-score': 1.0},\n",
       "    {'question': 'what are two of the first things a student has to learn in trig class',\n",
       "     'id': 'wztejdxc',\n",
       "     'answers': [{'answer_start': 374, 'text': 'cosine of a right triangle'}],\n",
       "     'f1-score': 0.18181818181818182},\n",
       "    {'question': 'what is one of the most important courses that students take at university',\n",
       "     'id': 'vkprdlnk',\n",
       "     'answers': [{'answer_start': 374, 'text': 'physiology'}],\n",
       "     'f1-score': 0},\n",
       "    {'question': 'what does a scientist need to remember when they graduate from university',\n",
       "     'id': 'tugrpoqi',\n",
       "     'answers': [{'answer_start': 620, 'text': 'Krebs cycle enzymes'}],\n",
       "     'f1-score': 0},\n",
       "    {'question': 'what keeps a student won- dering when it comes to physiology',\n",
       "     'id': 'bzracxmw',\n",
       "     'answers': [{'answer_start': 502,\n",
       "       'text': 'those pesky Krebs cycle enzymes'}],\n",
       "     'f1-score': 0.888888888888889},\n",
       "    {'question': 'in what class do students need to remember the enzyme responsible for forming citrate',\n",
       "     'id': 'zvuatpkh',\n",
       "     'answers': [{'answer_start': 473, 'text': 'physiology'}],\n",
       "     'f1-score': 0.6666666666666666}]}]}"
      ]
     },
     "execution_count": 49,
     "metadata": {},
     "output_type": "execute_result"
    }
   ],
   "source": [
    "full_list[0]"
   ]
  },
  {
   "cell_type": "code",
   "execution_count": 69,
   "metadata": {},
   "outputs": [],
   "source": [
    "list_test = [1,1,1,1,3,4,5,6]\n",
    "for m in list_test:\n",
    "\n",
    "    if m==1:\n",
    "\n",
    "        list_test.remove(m)\n",
    "       "
   ]
  },
  {
   "cell_type": "code",
   "execution_count": 71,
   "metadata": {},
   "outputs": [],
   "source": [
    "a = [1,1,1,1,3,4,5,6]\n",
    "for item in a[:]:\n",
    "    if item == 1:\n",
    "        a.remove(item)"
   ]
  },
  {
   "cell_type": "code",
   "execution_count": 72,
   "metadata": {},
   "outputs": [
    {
     "data": {
      "text/plain": [
       "[3, 4, 5, 6]"
      ]
     },
     "execution_count": 72,
     "metadata": {},
     "output_type": "execute_result"
    }
   ],
   "source": [
    "a"
   ]
  },
  {
   "cell_type": "code",
   "execution_count": 70,
   "metadata": {},
   "outputs": [
    {
     "data": {
      "text/plain": [
       "[1, 1, 3, 4, 5, 6]"
      ]
     },
     "execution_count": 70,
     "metadata": {},
     "output_type": "execute_result"
    }
   ],
   "source": [
    "list_test"
   ]
  },
  {
   "cell_type": "code",
   "execution_count": null,
   "metadata": {},
   "outputs": [],
   "source": [
    "test_list = [\n",
    "    \n",
    "    {'para': [\n",
    "        'qas':[\n",
    "            {'q':'abc','id':'123','a':['4','d'],'f1':1.0},\n",
    "            {'q':'abc','id':'123','a':['4','d'],'f1':0.5},\n",
    "            {'q':'abc','id':'123','a':['4','d'],'f1':0.2}\n",
    "        ]\n",
    "    ]}\n",
    "]"
   ]
  },
  {
   "cell_type": "code",
   "execution_count": null,
   "metadata": {},
   "outputs": [],
   "source": [
    "for k in list1: \n",
    "    for m in k['paragraphs'][0]['qas'][:]:\n",
    "        import pdb; pdb.set_trace()\n",
    "        if m['f1-score'] != 1:\n",
    "            k['paragraphs'][0]['qas'].remove(m)\n",
    "        "
   ]
  }
 ],
 "metadata": {
  "kernelspec": {
   "display_name": "Python 3",
   "language": "python",
   "name": "python3"
  },
  "language_info": {
   "codemirror_mode": {
    "name": "ipython",
    "version": 3
   },
   "file_extension": ".py",
   "mimetype": "text/x-python",
   "name": "python",
   "nbconvert_exporter": "python",
   "pygments_lexer": "ipython3",
   "version": "3.7.6"
  }
 },
 "nbformat": 4,
 "nbformat_minor": 4
}
